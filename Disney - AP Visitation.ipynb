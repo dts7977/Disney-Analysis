{
 "cells": [
  {
   "cell_type": "code",
   "execution_count": 1,
   "id": "0e505b11",
   "metadata": {},
   "outputs": [],
   "source": [
    "import pandas as pd\n",
    "import numpy as np\n",
    "import matplotlib as plt\n",
    "import time\n",
    "import datetime\n",
    "\n",
    "\n",
    "df=pd.read_csv('Disney - Visitation.csv')"
   ]
  },
  {
   "cell_type": "code",
   "execution_count": 2,
   "id": "fa5453a6",
   "metadata": {},
   "outputs": [
    {
     "data": {
      "text/html": [
       "<div>\n",
       "<style scoped>\n",
       "    .dataframe tbody tr th:only-of-type {\n",
       "        vertical-align: middle;\n",
       "    }\n",
       "\n",
       "    .dataframe tbody tr th {\n",
       "        vertical-align: top;\n",
       "    }\n",
       "\n",
       "    .dataframe thead th {\n",
       "        text-align: right;\n",
       "    }\n",
       "</style>\n",
       "<table border=\"1\" class=\"dataframe\">\n",
       "  <thead>\n",
       "    <tr style=\"text-align: right;\">\n",
       "      <th></th>\n",
       "      <th>source_id</th>\n",
       "      <th>Passtype</th>\n",
       "      <th>use_time</th>\n",
       "      <th>usage_status_desc</th>\n",
       "    </tr>\n",
       "  </thead>\n",
       "  <tbody>\n",
       "    <tr>\n",
       "      <th>0</th>\n",
       "      <td>4364</td>\n",
       "      <td>Diamond</td>\n",
       "      <td>12/24/19 8:29</td>\n",
       "      <td>Admission Ticket</td>\n",
       "    </tr>\n",
       "    <tr>\n",
       "      <th>1</th>\n",
       "      <td>4364</td>\n",
       "      <td>Diamond</td>\n",
       "      <td>12/27/19 7:04</td>\n",
       "      <td>Admission Ticket</td>\n",
       "    </tr>\n",
       "    <tr>\n",
       "      <th>2</th>\n",
       "      <td>4372</td>\n",
       "      <td>Gold</td>\n",
       "      <td>12/27/19 17:11</td>\n",
       "      <td>Admission Ticket</td>\n",
       "    </tr>\n",
       "    <tr>\n",
       "      <th>3</th>\n",
       "      <td>4373</td>\n",
       "      <td>Gold</td>\n",
       "      <td>12/27/19 17:11</td>\n",
       "      <td>Admission Ticket</td>\n",
       "    </tr>\n",
       "    <tr>\n",
       "      <th>4</th>\n",
       "      <td>4376</td>\n",
       "      <td>Gold</td>\n",
       "      <td>12/22/19 14:07</td>\n",
       "      <td>Admission Ticket</td>\n",
       "    </tr>\n",
       "  </tbody>\n",
       "</table>\n",
       "</div>"
      ],
      "text/plain": [
       "   source_id Passtype        use_time usage_status_desc\n",
       "0       4364  Diamond   12/24/19 8:29  Admission Ticket\n",
       "1       4364  Diamond   12/27/19 7:04  Admission Ticket\n",
       "2       4372     Gold  12/27/19 17:11  Admission Ticket\n",
       "3       4373     Gold  12/27/19 17:11  Admission Ticket\n",
       "4       4376     Gold  12/22/19 14:07  Admission Ticket"
      ]
     },
     "execution_count": 2,
     "metadata": {},
     "output_type": "execute_result"
    }
   ],
   "source": [
    "df.head()"
   ]
  },
  {
   "cell_type": "code",
   "execution_count": 3,
   "id": "4da11f8d",
   "metadata": {},
   "outputs": [
    {
     "data": {
      "text/html": [
       "<div>\n",
       "<style scoped>\n",
       "    .dataframe tbody tr th:only-of-type {\n",
       "        vertical-align: middle;\n",
       "    }\n",
       "\n",
       "    .dataframe tbody tr th {\n",
       "        vertical-align: top;\n",
       "    }\n",
       "\n",
       "    .dataframe thead th {\n",
       "        text-align: right;\n",
       "    }\n",
       "</style>\n",
       "<table border=\"1\" class=\"dataframe\">\n",
       "  <thead>\n",
       "    <tr style=\"text-align: right;\">\n",
       "      <th></th>\n",
       "      <th>Passtype</th>\n",
       "      <th>use_time</th>\n",
       "      <th>usage_status_desc</th>\n",
       "    </tr>\n",
       "  </thead>\n",
       "  <tbody>\n",
       "    <tr>\n",
       "      <th>count</th>\n",
       "      <td>24297</td>\n",
       "      <td>24297</td>\n",
       "      <td>24297</td>\n",
       "    </tr>\n",
       "    <tr>\n",
       "      <th>unique</th>\n",
       "      <td>3</td>\n",
       "      <td>4011</td>\n",
       "      <td>4</td>\n",
       "    </tr>\n",
       "    <tr>\n",
       "      <th>top</th>\n",
       "      <td>Gold</td>\n",
       "      <td>12/22/19 13:22</td>\n",
       "      <td>Admission Ticket</td>\n",
       "    </tr>\n",
       "    <tr>\n",
       "      <th>freq</th>\n",
       "      <td>15727</td>\n",
       "      <td>47</td>\n",
       "      <td>19582</td>\n",
       "    </tr>\n",
       "  </tbody>\n",
       "</table>\n",
       "</div>"
      ],
      "text/plain": [
       "       Passtype        use_time usage_status_desc\n",
       "count     24297           24297             24297\n",
       "unique        3            4011                 4\n",
       "top        Gold  12/22/19 13:22  Admission Ticket\n",
       "freq      15727              47             19582"
      ]
     },
     "execution_count": 3,
     "metadata": {},
     "output_type": "execute_result"
    }
   ],
   "source": [
    "df.describe(include=object)"
   ]
  },
  {
   "cell_type": "code",
   "execution_count": 4,
   "id": "e91677a3",
   "metadata": {},
   "outputs": [
    {
     "data": {
      "text/plain": [
       "source_id            0\n",
       "Passtype             0\n",
       "use_time             0\n",
       "usage_status_desc    0\n",
       "dtype: int64"
      ]
     },
     "execution_count": 4,
     "metadata": {},
     "output_type": "execute_result"
    }
   ],
   "source": [
    "df.isnull().sum()"
   ]
  },
  {
   "cell_type": "code",
   "execution_count": 5,
   "id": "7324a33f",
   "metadata": {},
   "outputs": [
    {
     "data": {
      "text/plain": [
       "24297"
      ]
     },
     "execution_count": 5,
     "metadata": {},
     "output_type": "execute_result"
    }
   ],
   "source": [
    "len(df)"
   ]
  },
  {
   "cell_type": "code",
   "execution_count": 6,
   "id": "3d608df4",
   "metadata": {},
   "outputs": [
    {
     "name": "stdout",
     "output_type": "stream",
     "text": [
      "<class 'pandas.core.frame.DataFrame'>\n",
      "RangeIndex: 24297 entries, 0 to 24296\n",
      "Data columns (total 4 columns):\n",
      " #   Column             Non-Null Count  Dtype \n",
      "---  ------             --------------  ----- \n",
      " 0   source_id          24297 non-null  int64 \n",
      " 1   Passtype           24297 non-null  object\n",
      " 2   use_time           24297 non-null  object\n",
      " 3   usage_status_desc  24297 non-null  object\n",
      "dtypes: int64(1), object(3)\n",
      "memory usage: 759.4+ KB\n"
     ]
    }
   ],
   "source": [
    "df.info()"
   ]
  },
  {
   "cell_type": "code",
   "execution_count": 7,
   "id": "9db2d613",
   "metadata": {},
   "outputs": [],
   "source": [
    "date=pd.to_datetime(df['use_time'], utc=False)\n",
    "df['use_time']=date\n",
    "\n",
    "df['new_date'] = [d.date() for d in df['use_time']]\n",
    "df['new_time'] = [d.time() for d in df['use_time']]"
   ]
  },
  {
   "cell_type": "code",
   "execution_count": 8,
   "id": "284c2f79",
   "metadata": {},
   "outputs": [
    {
     "data": {
      "text/html": [
       "<div>\n",
       "<style scoped>\n",
       "    .dataframe tbody tr th:only-of-type {\n",
       "        vertical-align: middle;\n",
       "    }\n",
       "\n",
       "    .dataframe tbody tr th {\n",
       "        vertical-align: top;\n",
       "    }\n",
       "\n",
       "    .dataframe thead th {\n",
       "        text-align: right;\n",
       "    }\n",
       "</style>\n",
       "<table border=\"1\" class=\"dataframe\">\n",
       "  <thead>\n",
       "    <tr style=\"text-align: right;\">\n",
       "      <th></th>\n",
       "      <th>source_id</th>\n",
       "      <th>Passtype</th>\n",
       "      <th>use_time</th>\n",
       "      <th>usage_status_desc</th>\n",
       "      <th>new_date</th>\n",
       "      <th>new_time</th>\n",
       "    </tr>\n",
       "  </thead>\n",
       "  <tbody>\n",
       "    <tr>\n",
       "      <th>0</th>\n",
       "      <td>4364</td>\n",
       "      <td>Diamond</td>\n",
       "      <td>2019-12-24 08:29:00</td>\n",
       "      <td>Admission Ticket</td>\n",
       "      <td>2019-12-24</td>\n",
       "      <td>08:29:00</td>\n",
       "    </tr>\n",
       "    <tr>\n",
       "      <th>1</th>\n",
       "      <td>4364</td>\n",
       "      <td>Diamond</td>\n",
       "      <td>2019-12-27 07:04:00</td>\n",
       "      <td>Admission Ticket</td>\n",
       "      <td>2019-12-27</td>\n",
       "      <td>07:04:00</td>\n",
       "    </tr>\n",
       "    <tr>\n",
       "      <th>2</th>\n",
       "      <td>4372</td>\n",
       "      <td>Gold</td>\n",
       "      <td>2019-12-27 17:11:00</td>\n",
       "      <td>Admission Ticket</td>\n",
       "      <td>2019-12-27</td>\n",
       "      <td>17:11:00</td>\n",
       "    </tr>\n",
       "    <tr>\n",
       "      <th>3</th>\n",
       "      <td>4373</td>\n",
       "      <td>Gold</td>\n",
       "      <td>2019-12-27 17:11:00</td>\n",
       "      <td>Admission Ticket</td>\n",
       "      <td>2019-12-27</td>\n",
       "      <td>17:11:00</td>\n",
       "    </tr>\n",
       "    <tr>\n",
       "      <th>4</th>\n",
       "      <td>4376</td>\n",
       "      <td>Gold</td>\n",
       "      <td>2019-12-22 14:07:00</td>\n",
       "      <td>Admission Ticket</td>\n",
       "      <td>2019-12-22</td>\n",
       "      <td>14:07:00</td>\n",
       "    </tr>\n",
       "    <tr>\n",
       "      <th>...</th>\n",
       "      <td>...</td>\n",
       "      <td>...</td>\n",
       "      <td>...</td>\n",
       "      <td>...</td>\n",
       "      <td>...</td>\n",
       "      <td>...</td>\n",
       "    </tr>\n",
       "    <tr>\n",
       "      <th>24292</th>\n",
       "      <td>206901</td>\n",
       "      <td>Gold</td>\n",
       "      <td>2019-12-28 15:02:00</td>\n",
       "      <td>Invalid Ticket</td>\n",
       "      <td>2019-12-28</td>\n",
       "      <td>15:02:00</td>\n",
       "    </tr>\n",
       "    <tr>\n",
       "      <th>24293</th>\n",
       "      <td>206920</td>\n",
       "      <td>Silver</td>\n",
       "      <td>2019-12-28 15:59:00</td>\n",
       "      <td>Invalid Ticket</td>\n",
       "      <td>2019-12-28</td>\n",
       "      <td>15:59:00</td>\n",
       "    </tr>\n",
       "    <tr>\n",
       "      <th>24294</th>\n",
       "      <td>206922</td>\n",
       "      <td>Silver</td>\n",
       "      <td>2019-12-28 16:13:00</td>\n",
       "      <td>Invalid Ticket</td>\n",
       "      <td>2019-12-28</td>\n",
       "      <td>16:13:00</td>\n",
       "    </tr>\n",
       "    <tr>\n",
       "      <th>24295</th>\n",
       "      <td>206923</td>\n",
       "      <td>Silver</td>\n",
       "      <td>2019-12-28 16:13:00</td>\n",
       "      <td>Invalid Ticket</td>\n",
       "      <td>2019-12-28</td>\n",
       "      <td>16:13:00</td>\n",
       "    </tr>\n",
       "    <tr>\n",
       "      <th>24296</th>\n",
       "      <td>206940</td>\n",
       "      <td>Gold</td>\n",
       "      <td>2019-12-28 16:41:00</td>\n",
       "      <td>Invalid Ticket</td>\n",
       "      <td>2019-12-28</td>\n",
       "      <td>16:41:00</td>\n",
       "    </tr>\n",
       "  </tbody>\n",
       "</table>\n",
       "<p>24297 rows × 6 columns</p>\n",
       "</div>"
      ],
      "text/plain": [
       "       source_id Passtype            use_time usage_status_desc    new_date  \\\n",
       "0           4364  Diamond 2019-12-24 08:29:00  Admission Ticket  2019-12-24   \n",
       "1           4364  Diamond 2019-12-27 07:04:00  Admission Ticket  2019-12-27   \n",
       "2           4372     Gold 2019-12-27 17:11:00  Admission Ticket  2019-12-27   \n",
       "3           4373     Gold 2019-12-27 17:11:00  Admission Ticket  2019-12-27   \n",
       "4           4376     Gold 2019-12-22 14:07:00  Admission Ticket  2019-12-22   \n",
       "...          ...      ...                 ...               ...         ...   \n",
       "24292     206901     Gold 2019-12-28 15:02:00    Invalid Ticket  2019-12-28   \n",
       "24293     206920   Silver 2019-12-28 15:59:00    Invalid Ticket  2019-12-28   \n",
       "24294     206922   Silver 2019-12-28 16:13:00    Invalid Ticket  2019-12-28   \n",
       "24295     206923   Silver 2019-12-28 16:13:00    Invalid Ticket  2019-12-28   \n",
       "24296     206940     Gold 2019-12-28 16:41:00    Invalid Ticket  2019-12-28   \n",
       "\n",
       "       new_time  \n",
       "0      08:29:00  \n",
       "1      07:04:00  \n",
       "2      17:11:00  \n",
       "3      17:11:00  \n",
       "4      14:07:00  \n",
       "...         ...  \n",
       "24292  15:02:00  \n",
       "24293  15:59:00  \n",
       "24294  16:13:00  \n",
       "24295  16:13:00  \n",
       "24296  16:41:00  \n",
       "\n",
       "[24297 rows x 6 columns]"
      ]
     },
     "execution_count": 8,
     "metadata": {},
     "output_type": "execute_result"
    }
   ],
   "source": [
    "df"
   ]
  },
  {
   "cell_type": "code",
   "execution_count": 9,
   "id": "f65f956b",
   "metadata": {},
   "outputs": [],
   "source": [
    "df.drop(['use_time'],axis=1,inplace=True)  "
   ]
  },
  {
   "cell_type": "code",
   "execution_count": 10,
   "id": "a48a62f6",
   "metadata": {},
   "outputs": [],
   "source": [
    "#unique occurrences based on source_id\n",
    "df['occurrences'] = df.groupby('source_id')['source_id'].transform('size')\n"
   ]
  },
  {
   "cell_type": "code",
   "execution_count": 11,
   "id": "17ea4aeb",
   "metadata": {},
   "outputs": [
    {
     "data": {
      "text/plain": [
       "Admission Ticket    19582\n",
       "ReEntry              4633\n",
       "Invalid Ticket         81\n",
       "Ticket Blocked          1\n",
       "Name: usage_status_desc, dtype: int64"
      ]
     },
     "execution_count": 11,
     "metadata": {},
     "output_type": "execute_result"
    }
   ],
   "source": [
    "df['usage_status_desc'].value_counts()"
   ]
  },
  {
   "cell_type": "markdown",
   "id": "2ef21812",
   "metadata": {},
   "source": [
    "# sorting based on usage_status_desc - ADMISSION TICKET\n"
   ]
  },
  {
   "cell_type": "code",
   "execution_count": 14,
   "id": "ac6fcb88",
   "metadata": {},
   "outputs": [
    {
     "data": {
      "text/html": [
       "<div>\n",
       "<style scoped>\n",
       "    .dataframe tbody tr th:only-of-type {\n",
       "        vertical-align: middle;\n",
       "    }\n",
       "\n",
       "    .dataframe tbody tr th {\n",
       "        vertical-align: top;\n",
       "    }\n",
       "\n",
       "    .dataframe thead th {\n",
       "        text-align: right;\n",
       "    }\n",
       "</style>\n",
       "<table border=\"1\" class=\"dataframe\">\n",
       "  <thead>\n",
       "    <tr style=\"text-align: right;\">\n",
       "      <th></th>\n",
       "      <th>source_id</th>\n",
       "      <th>Passtype</th>\n",
       "      <th>usage_status_desc</th>\n",
       "      <th>new_date</th>\n",
       "      <th>new_time</th>\n",
       "      <th>occurrences</th>\n",
       "    </tr>\n",
       "  </thead>\n",
       "  <tbody>\n",
       "    <tr>\n",
       "      <th>0</th>\n",
       "      <td>4364</td>\n",
       "      <td>Diamond</td>\n",
       "      <td>Admission Ticket</td>\n",
       "      <td>2019-12-24</td>\n",
       "      <td>08:29:00</td>\n",
       "      <td>2</td>\n",
       "    </tr>\n",
       "    <tr>\n",
       "      <th>1</th>\n",
       "      <td>4364</td>\n",
       "      <td>Diamond</td>\n",
       "      <td>Admission Ticket</td>\n",
       "      <td>2019-12-27</td>\n",
       "      <td>07:04:00</td>\n",
       "      <td>2</td>\n",
       "    </tr>\n",
       "    <tr>\n",
       "      <th>2</th>\n",
       "      <td>4372</td>\n",
       "      <td>Gold</td>\n",
       "      <td>Admission Ticket</td>\n",
       "      <td>2019-12-27</td>\n",
       "      <td>17:11:00</td>\n",
       "      <td>1</td>\n",
       "    </tr>\n",
       "    <tr>\n",
       "      <th>3</th>\n",
       "      <td>4373</td>\n",
       "      <td>Gold</td>\n",
       "      <td>Admission Ticket</td>\n",
       "      <td>2019-12-27</td>\n",
       "      <td>17:11:00</td>\n",
       "      <td>1</td>\n",
       "    </tr>\n",
       "    <tr>\n",
       "      <th>4</th>\n",
       "      <td>4376</td>\n",
       "      <td>Gold</td>\n",
       "      <td>Admission Ticket</td>\n",
       "      <td>2019-12-22</td>\n",
       "      <td>14:07:00</td>\n",
       "      <td>1</td>\n",
       "    </tr>\n",
       "  </tbody>\n",
       "</table>\n",
       "</div>"
      ],
      "text/plain": [
       "   source_id Passtype usage_status_desc    new_date  new_time  occurrences\n",
       "0       4364  Diamond  Admission Ticket  2019-12-24  08:29:00            2\n",
       "1       4364  Diamond  Admission Ticket  2019-12-27  07:04:00            2\n",
       "2       4372     Gold  Admission Ticket  2019-12-27  17:11:00            1\n",
       "3       4373     Gold  Admission Ticket  2019-12-27  17:11:00            1\n",
       "4       4376     Gold  Admission Ticket  2019-12-22  14:07:00            1"
      ]
     },
     "execution_count": 14,
     "metadata": {},
     "output_type": "execute_result"
    }
   ],
   "source": [
    "df1=df[df['usage_status_desc']=='Admission Ticket']\n",
    "df1.head()\n"
   ]
  },
  {
   "cell_type": "code",
   "execution_count": 25,
   "id": "b5e9c065",
   "metadata": {},
   "outputs": [
    {
     "data": {
      "text/plain": [
       "Gold       12729\n",
       "Silver      3766\n",
       "Diamond     3087\n",
       "Name: Passtype, dtype: int64"
      ]
     },
     "execution_count": 25,
     "metadata": {},
     "output_type": "execute_result"
    }
   ],
   "source": [
    "dfa=df1[df1['usage_status_desc']=='Admission Ticket']\n",
    "dfa['Passtype'].value_counts()"
   ]
  },
  {
   "cell_type": "code",
   "execution_count": 26,
   "id": "912ae125",
   "metadata": {},
   "outputs": [
    {
     "data": {
      "text/plain": [
       "<function matplotlib.pyplot.show(close=None, block=None)>"
      ]
     },
     "execution_count": 26,
     "metadata": {},
     "output_type": "execute_result"
    },
    {
     "data": {
      "image/png": "[encoded data removed]",
      "text/plain": [
       "<Figure size 432x288 with 1 Axes>"
      ]
     },
     "metadata": {},
     "output_type": "display_data"
    }
   ],
   "source": [
    "#percentage of each tier\n",
    "import matplotlib.pyplot as plt\n",
    "tiers=['Diamond','Gold','Silver']\n",
    "diam=len(df1[df1['Passtype']=='Diamond'])\n",
    "gold=len(df1[df1['Passtype']=='Gold'])\n",
    "silver=len(df1[df1['Passtype']=='Silver'])\n",
    "data=[diam,gold,silver]\n",
    "plt.pie(data, labels = tiers,autopct='%1.1f%%',colors = ['#b9f2ff','#FFD700','#C0C0C0'])\n",
    "plt.title('Percentage of Each Tier - Admission Ticket')\n",
    "plt.tight_layout()\n",
    "\n",
    "plt.show"
   ]
  },
  {
   "cell_type": "code",
   "execution_count": 16,
   "id": "42b384f3",
   "metadata": {},
   "outputs": [
    {
     "data": {
      "text/plain": [
       "1.9464303952609538"
      ]
     },
     "execution_count": 16,
     "metadata": {},
     "output_type": "execute_result"
    }
   ],
   "source": [
    "#average number of Admission Ticket occurrences per person (source_id)\n",
    "df1['occurrences'].mean()"
   ]
  },
  {
   "cell_type": "code",
   "execution_count": 63,
   "id": "384a7846",
   "metadata": {},
   "outputs": [
    {
     "name": "stdout",
     "output_type": "stream",
     "text": [
      "Average number of Admission Tickets per person for Gold Tier: 1.4687720952156493\n",
      "Average number of Admission Tickets per person for Diamond Tier: 4.835114998380305\n",
      "Average number of Admission Tickets per person for Silver Tier: 1.1930430164630907\n"
     ]
    }
   ],
   "source": [
    "#average number of Admission Ticket occurrences per person per Tier (source_id)\n",
    "Goldoccurrences=df1.loc[df1['Passtype'] == 'Gold', 'occurrences'].mean()\n",
    "Diamondoccurrences=df1.loc[df1['Passtype'] == 'Diamond', 'occurrences'].mean()\n",
    "Silveroccurrences=df1.loc[df1['Passtype'] == 'Silver', 'occurrences'].mean()\n",
    "\n",
    "print(\"Average number of Admission Tickets per person for Gold Tier:\",Goldoccurrences)\n",
    "print(\"Average number of Admission Tickets per person for Diamond Tier:\",Diamondoccurrences)\n",
    "print(\"Average number of Admission Tickets per person for Silver Tier:\",Silveroccurrences)"
   ]
  },
  {
   "cell_type": "code",
   "execution_count": 17,
   "id": "73747cd8",
   "metadata": {},
   "outputs": [
    {
     "data": {
      "image/png": "[encoded data removed]",
      "text/plain": [
       "<Figure size 432x288 with 1 Axes>"
      ]
     },
     "metadata": {
      "needs_background": "light"
     },
     "output_type": "display_data"
    }
   ],
   "source": [
    "#Popular times for Overall Admission Ticket usage\n",
    "pd.plotting.register_matplotlib_converters()\n",
    "x=df1['new_time'].value_counts().index\n",
    "y=df1['new_time'].value_counts()\n",
    "\n",
    "plt.scatter(x,y)\n",
    "plt.title('Time graph of Admission Tickets')\n",
    "plt.ylabel('Count of Occurrences')\n",
    "plt.show()"
   ]
  },
  {
   "cell_type": "code",
   "execution_count": 18,
   "id": "754b46f9",
   "metadata": {},
   "outputs": [
    {
     "data": {
      "image/png": "[encoded data removed]",
      "text/plain": [
       "<Figure size 720x720 with 1 Axes>"
      ]
     },
     "metadata": {
      "needs_background": "light"
     },
     "output_type": "display_data"
    }
   ],
   "source": [
    "#Popular days for Overall Admission Ticket usage\n",
    "x=df1['new_date'].value_counts().index\n",
    "y=df1['new_date'].value_counts()\n",
    "\n",
    "plt.scatter(x,y)\n",
    "plt.title('Day graph of Admission Tickets')\n",
    "plt.ylabel('Count of Occurrences')\n",
    "plt.gcf().set_size_inches((10, 10))    \n",
    "plt.show()"
   ]
  },
  {
   "cell_type": "code",
   "execution_count": 22,
   "id": "4acbf84a",
   "metadata": {},
   "outputs": [
    {
     "data": {
      "image/png": "[encoded data removed]",
      "text/plain": [
       "<Figure size 432x288 with 1 Axes>"
      ]
     },
     "metadata": {
      "needs_background": "light"
     },
     "output_type": "display_data"
    }
   ],
   "source": [
    "#Popular Times for each type of Admission Ticket Usage\n",
    "df_part_group=df1.groupby('Passtype')\n",
    "gold=df_part_group.get_group('Gold')\n",
    "diamond=df_part_group.get_group('Diamond')\n",
    "silver=df_part_group.get_group('Silver')\n",
    "\n",
    "\n",
    "\n",
    "goldy=gold['new_time'].value_counts()\n",
    "diamondy=diamond['new_time'].value_counts()\n",
    "silvery=silver['new_time'].value_counts()\n",
    "\n",
    "ax = plt.gca()\n",
    "\n",
    "goldx=gold['new_time'].value_counts().index\n",
    "diamondx=diamond['new_time'].value_counts().index\n",
    "silverx=silver['new_time'].value_counts().index\n",
    "\n",
    "\n",
    "\n",
    "ax.scatter(goldx, goldy, color='#FFD700')\n",
    "ax.scatter(diamondx, diamondy, color='#b9f2ff')\n",
    "ax.scatter(silverx, silvery, color='#C0C0C0')\n",
    "\n",
    "ax.title.set_text('Time graph of Admission Tickets')\n",
    "\n",
    "\n",
    "\n"
   ]
  },
  {
   "cell_type": "code",
   "execution_count": 20,
   "id": "c1ae4cfb",
   "metadata": {},
   "outputs": [
    {
     "data": {
      "image/png": "[encoded data removed]",
      "text/plain": [
       "<Figure size 432x288 with 1 Axes>"
      ]
     },
     "metadata": {
      "needs_background": "light"
     },
     "output_type": "display_data"
    }
   ],
   "source": [
    "#Popular Day for each type of Admission Ticket Usage\n",
    "df_part_group=df1.groupby('Passtype')\n",
    "gold=df_part_group.get_group('Gold')\n",
    "diamond=df_part_group.get_group('Diamond')\n",
    "silver=df_part_group.get_group('Silver')\n",
    "\n",
    "\n",
    "\n",
    "goldy=gold['new_date'].value_counts()\n",
    "diamondy=diamond['new_date'].value_counts()\n",
    "silvery=silver['new_date'].value_counts()\n",
    "\n",
    "ax = plt.gca()\n",
    "\n",
    "goldx=gold['new_date'].value_counts().index\n",
    "diamondx=diamond['new_date'].value_counts().index\n",
    "silverx=silver['new_date'].value_counts().index\n",
    "\n",
    "\n",
    "\n",
    "ax.scatter(goldx, goldy, color='#FFD700')\n",
    "ax.scatter(diamondx, diamondy, color='#b9f2ff')\n",
    "ax.scatter(silverx, silvery, color='#C0C0C0')\n",
    "\n",
    "ax.title.set_text('Day graph of Admission Tickets')"
   ]
  },
  {
   "cell_type": "markdown",
   "id": "de52357c",
   "metadata": {},
   "source": [
    "# sorting based on usage_status_desc - ReEntry\n",
    "\n"
   ]
  },
  {
   "cell_type": "code",
   "execution_count": 27,
   "id": "669407b2",
   "metadata": {},
   "outputs": [
    {
     "data": {
      "text/html": [
       "<div>\n",
       "<style scoped>\n",
       "    .dataframe tbody tr th:only-of-type {\n",
       "        vertical-align: middle;\n",
       "    }\n",
       "\n",
       "    .dataframe tbody tr th {\n",
       "        vertical-align: top;\n",
       "    }\n",
       "\n",
       "    .dataframe thead th {\n",
       "        text-align: right;\n",
       "    }\n",
       "</style>\n",
       "<table border=\"1\" class=\"dataframe\">\n",
       "  <thead>\n",
       "    <tr style=\"text-align: right;\">\n",
       "      <th></th>\n",
       "      <th>source_id</th>\n",
       "      <th>Passtype</th>\n",
       "      <th>usage_status_desc</th>\n",
       "      <th>new_date</th>\n",
       "      <th>new_time</th>\n",
       "      <th>occurrences</th>\n",
       "    </tr>\n",
       "  </thead>\n",
       "  <tbody>\n",
       "    <tr>\n",
       "      <th>24</th>\n",
       "      <td>4434</td>\n",
       "      <td>Silver</td>\n",
       "      <td>ReEntry</td>\n",
       "      <td>2019-12-22</td>\n",
       "      <td>12:57:00</td>\n",
       "      <td>3</td>\n",
       "    </tr>\n",
       "    <tr>\n",
       "      <th>25</th>\n",
       "      <td>4434</td>\n",
       "      <td>Silver</td>\n",
       "      <td>ReEntry</td>\n",
       "      <td>2019-12-22</td>\n",
       "      <td>18:54:00</td>\n",
       "      <td>3</td>\n",
       "    </tr>\n",
       "    <tr>\n",
       "      <th>39</th>\n",
       "      <td>4531</td>\n",
       "      <td>Gold</td>\n",
       "      <td>ReEntry</td>\n",
       "      <td>2019-12-27</td>\n",
       "      <td>20:31:00</td>\n",
       "      <td>2</td>\n",
       "    </tr>\n",
       "    <tr>\n",
       "      <th>41</th>\n",
       "      <td>4535</td>\n",
       "      <td>Diamond</td>\n",
       "      <td>ReEntry</td>\n",
       "      <td>2019-12-23</td>\n",
       "      <td>16:41:00</td>\n",
       "      <td>7</td>\n",
       "    </tr>\n",
       "    <tr>\n",
       "      <th>43</th>\n",
       "      <td>4535</td>\n",
       "      <td>Diamond</td>\n",
       "      <td>ReEntry</td>\n",
       "      <td>2019-12-24</td>\n",
       "      <td>12:05:00</td>\n",
       "      <td>7</td>\n",
       "    </tr>\n",
       "  </tbody>\n",
       "</table>\n",
       "</div>"
      ],
      "text/plain": [
       "    source_id Passtype usage_status_desc    new_date  new_time  occurrences\n",
       "24       4434   Silver           ReEntry  2019-12-22  12:57:00            3\n",
       "25       4434   Silver           ReEntry  2019-12-22  18:54:00            3\n",
       "39       4531     Gold           ReEntry  2019-12-27  20:31:00            2\n",
       "41       4535  Diamond           ReEntry  2019-12-23  16:41:00            7\n",
       "43       4535  Diamond           ReEntry  2019-12-24  12:05:00            7"
      ]
     },
     "execution_count": 27,
     "metadata": {},
     "output_type": "execute_result"
    }
   ],
   "source": [
    "df2=df[df['usage_status_desc']=='ReEntry']\n",
    "df2.head()"
   ]
  },
  {
   "cell_type": "code",
   "execution_count": 28,
   "id": "0074cfb1",
   "metadata": {},
   "outputs": [
    {
     "data": {
      "text/plain": [
       "Gold       2930\n",
       "Diamond     972\n",
       "Silver      731\n",
       "Name: Passtype, dtype: int64"
      ]
     },
     "execution_count": 28,
     "metadata": {},
     "output_type": "execute_result"
    }
   ],
   "source": [
    "dfb=df2[df2['usage_status_desc']=='ReEntry']\n",
    "dfb['Passtype'].value_counts()"
   ]
  },
  {
   "cell_type": "code",
   "execution_count": 29,
   "id": "fd86f9ef",
   "metadata": {},
   "outputs": [
    {
     "data": {
      "text/plain": [
       "<function matplotlib.pyplot.show(close=None, block=None)>"
      ]
     },
     "execution_count": 29,
     "metadata": {},
     "output_type": "execute_result"
    },
    {
     "data": {
      "image/png": "[encoded data removed]",
      "text/plain": [
       "<Figure size 432x288 with 1 Axes>"
      ]
     },
     "metadata": {},
     "output_type": "display_data"
    }
   ],
   "source": [
    "#percentage of each tier\n",
    "import matplotlib.pyplot as plt\n",
    "tiers=['Diamond','Gold','Silver']\n",
    "diam=len(df2[df2['Passtype']=='Diamond'])\n",
    "gold=len(df2[df2['Passtype']=='Gold'])\n",
    "silver=len(df2[df2['Passtype']=='Silver'])\n",
    "data=[diam,gold,silver]\n",
    "plt.pie(data, labels = tiers,autopct='%1.1f%%',colors = ['#b9f2ff','#FFD700','#C0C0C0'])\n",
    "plt.title('Percentage of Each Tier - ReEntry')\n",
    "plt.tight_layout()\n",
    "\n",
    "plt.show"
   ]
  },
  {
   "cell_type": "code",
   "execution_count": 30,
   "id": "0027f2bd",
   "metadata": {},
   "outputs": [
    {
     "data": {
      "text/plain": [
       "3.468163177206993"
      ]
     },
     "execution_count": 30,
     "metadata": {},
     "output_type": "execute_result"
    }
   ],
   "source": [
    "#average number of ReEntry occurrences per person (source_id)\n",
    "df2['occurrences'].mean()"
   ]
  },
  {
   "cell_type": "code",
   "execution_count": 65,
   "id": "0ae34cfb",
   "metadata": {},
   "outputs": [
    {
     "name": "stdout",
     "output_type": "stream",
     "text": [
      "Average number of ReEntry per person for Gold Tier: 2.496928327645051\n",
      "Average number of ReEntry Tickets per person for Diamond Tier: 7.403292181069959\n",
      "Average number of ReEntry Tickets per person for Silver Tier: 2.1285909712722297\n"
     ]
    }
   ],
   "source": [
    "#average number of ReEntry occurrences per person per Tier (source_id)\n",
    "Goldoccurrences=df2.loc[df2['Passtype'] == 'Gold', 'occurrences'].mean()\n",
    "Diamondoccurrences=df2.loc[df2['Passtype'] == 'Diamond', 'occurrences'].mean()\n",
    "Silveroccurrences=df2.loc[df2['Passtype'] == 'Silver', 'occurrences'].mean()\n",
    "\n",
    "print(\"Average number of ReEntry per person for Gold Tier:\",Goldoccurrences)\n",
    "print(\"Average number of ReEntry Tickets per person for Diamond Tier:\",Diamondoccurrences)\n",
    "print(\"Average number of ReEntry Tickets per person for Silver Tier:\",Silveroccurrences)"
   ]
  },
  {
   "cell_type": "code",
   "execution_count": 32,
   "id": "41ef33b4",
   "metadata": {},
   "outputs": [
    {
     "data": {
      "image/png": "[encoded data removed]",
      "text/plain": [
       "<Figure size 432x288 with 1 Axes>"
      ]
     },
     "metadata": {
      "needs_background": "light"
     },
     "output_type": "display_data"
    }
   ],
   "source": [
    "#Popular times for Overall ReEntry usage\n",
    "pd.plotting.register_matplotlib_converters()\n",
    "x=df2['new_time'].value_counts().index\n",
    "y=df2['new_time'].value_counts()\n",
    "\n",
    "plt.scatter(x,y)\n",
    "plt.title('Time graph of ReEntry')\n",
    "plt.ylabel('Count of Occurrences')\n",
    "plt.show()"
   ]
  },
  {
   "cell_type": "code",
   "execution_count": 34,
   "id": "f94b4e52",
   "metadata": {},
   "outputs": [
    {
     "data": {
      "image/png": "[encoded data removed]",
      "text/plain": [
       "<Figure size 720x720 with 1 Axes>"
      ]
     },
     "metadata": {
      "needs_background": "light"
     },
     "output_type": "display_data"
    }
   ],
   "source": [
    "#Popular days for Overall ReEntry usage\n",
    "x=df2['new_date'].value_counts().index\n",
    "y=df2['new_date'].value_counts()\n",
    "\n",
    "plt.scatter(x,y)\n",
    "plt.title('Day graph of ReEntry')\n",
    "plt.ylabel('Count of Occurrences')\n",
    "plt.gcf().set_size_inches((10, 10))    \n",
    "plt.show()"
   ]
  },
  {
   "cell_type": "code",
   "execution_count": 35,
   "id": "07787be5",
   "metadata": {},
   "outputs": [
    {
     "data": {
      "image/png": "[encoded data removed]",
      "text/plain": [
       "<Figure size 432x288 with 1 Axes>"
      ]
     },
     "metadata": {
      "needs_background": "light"
     },
     "output_type": "display_data"
    }
   ],
   "source": [
    "#Popular Times for each type of ReEntry Usage\n",
    "df_part_group=df2.groupby('Passtype')\n",
    "gold=df_part_group.get_group('Gold')\n",
    "diamond=df_part_group.get_group('Diamond')\n",
    "silver=df_part_group.get_group('Silver')\n",
    "\n",
    "\n",
    "\n",
    "goldy=gold['new_time'].value_counts()\n",
    "diamondy=diamond['new_time'].value_counts()\n",
    "silvery=silver['new_time'].value_counts()\n",
    "\n",
    "ax = plt.gca()\n",
    "\n",
    "goldx=gold['new_time'].value_counts().index\n",
    "diamondx=diamond['new_time'].value_counts().index\n",
    "silverx=silver['new_time'].value_counts().index\n",
    "\n",
    "\n",
    "\n",
    "ax.scatter(goldx, goldy, color='#FFD700')\n",
    "ax.scatter(diamondx, diamondy, color='#b9f2ff')\n",
    "ax.scatter(silverx, silvery, color='#C0C0C0')\n",
    "\n",
    "ax.title.set_text('Time graph of ReEntry')"
   ]
  },
  {
   "cell_type": "code",
   "execution_count": 36,
   "id": "fa6094d3",
   "metadata": {},
   "outputs": [
    {
     "data": {
      "image/png": "[encoded data removed]",
      "text/plain": [
       "<Figure size 432x288 with 1 Axes>"
      ]
     },
     "metadata": {
      "needs_background": "light"
     },
     "output_type": "display_data"
    }
   ],
   "source": [
    "#Popular Day for each type of ReEntry Usage\n",
    "df_part_group=df2.groupby('Passtype')\n",
    "gold=df_part_group.get_group('Gold')\n",
    "diamond=df_part_group.get_group('Diamond')\n",
    "silver=df_part_group.get_group('Silver')\n",
    "\n",
    "\n",
    "\n",
    "goldy=gold['new_date'].value_counts()\n",
    "diamondy=diamond['new_date'].value_counts()\n",
    "silvery=silver['new_date'].value_counts()\n",
    "\n",
    "ax = plt.gca()\n",
    "\n",
    "goldx=gold['new_date'].value_counts().index\n",
    "diamondx=diamond['new_date'].value_counts().index\n",
    "silverx=silver['new_date'].value_counts().index\n",
    "\n",
    "\n",
    "\n",
    "ax.scatter(goldx, goldy, color='#FFD700')\n",
    "ax.scatter(diamondx, diamondy, color='#b9f2ff')\n",
    "ax.scatter(silverx, silvery, color='#C0C0C0')\n",
    "\n",
    "ax.title.set_text('Day graph of ReEntry')"
   ]
  },
  {
   "cell_type": "markdown",
   "id": "aeb3315e",
   "metadata": {},
   "source": [
    "# sorting based on usage_status_desc - Invalid Ticket"
   ]
  },
  {
   "cell_type": "code",
   "execution_count": 37,
   "id": "fe13409d",
   "metadata": {},
   "outputs": [
    {
     "data": {
      "text/html": [
       "<div>\n",
       "<style scoped>\n",
       "    .dataframe tbody tr th:only-of-type {\n",
       "        vertical-align: middle;\n",
       "    }\n",
       "\n",
       "    .dataframe tbody tr th {\n",
       "        vertical-align: top;\n",
       "    }\n",
       "\n",
       "    .dataframe thead th {\n",
       "        text-align: right;\n",
       "    }\n",
       "</style>\n",
       "<table border=\"1\" class=\"dataframe\">\n",
       "  <thead>\n",
       "    <tr style=\"text-align: right;\">\n",
       "      <th></th>\n",
       "      <th>source_id</th>\n",
       "      <th>Passtype</th>\n",
       "      <th>usage_status_desc</th>\n",
       "      <th>new_date</th>\n",
       "      <th>new_time</th>\n",
       "      <th>occurrences</th>\n",
       "    </tr>\n",
       "  </thead>\n",
       "  <tbody>\n",
       "    <tr>\n",
       "      <th>819</th>\n",
       "      <td>9798</td>\n",
       "      <td>Gold</td>\n",
       "      <td>Invalid Ticket</td>\n",
       "      <td>2019-12-25</td>\n",
       "      <td>10:34:00</td>\n",
       "      <td>1</td>\n",
       "    </tr>\n",
       "    <tr>\n",
       "      <th>1139</th>\n",
       "      <td>12086</td>\n",
       "      <td>Gold</td>\n",
       "      <td>Invalid Ticket</td>\n",
       "      <td>2019-12-24</td>\n",
       "      <td>10:10:00</td>\n",
       "      <td>1</td>\n",
       "    </tr>\n",
       "    <tr>\n",
       "      <th>1158</th>\n",
       "      <td>12180</td>\n",
       "      <td>Silver</td>\n",
       "      <td>Invalid Ticket</td>\n",
       "      <td>2019-12-28</td>\n",
       "      <td>13:54:00</td>\n",
       "      <td>1</td>\n",
       "    </tr>\n",
       "    <tr>\n",
       "      <th>1159</th>\n",
       "      <td>12181</td>\n",
       "      <td>Silver</td>\n",
       "      <td>Invalid Ticket</td>\n",
       "      <td>2019-12-28</td>\n",
       "      <td>13:54:00</td>\n",
       "      <td>1</td>\n",
       "    </tr>\n",
       "    <tr>\n",
       "      <th>1309</th>\n",
       "      <td>12914</td>\n",
       "      <td>Gold</td>\n",
       "      <td>Invalid Ticket</td>\n",
       "      <td>2019-12-24</td>\n",
       "      <td>15:55:00</td>\n",
       "      <td>2</td>\n",
       "    </tr>\n",
       "  </tbody>\n",
       "</table>\n",
       "</div>"
      ],
      "text/plain": [
       "      source_id Passtype usage_status_desc    new_date  new_time  occurrences\n",
       "819        9798     Gold    Invalid Ticket  2019-12-25  10:34:00            1\n",
       "1139      12086     Gold    Invalid Ticket  2019-12-24  10:10:00            1\n",
       "1158      12180   Silver    Invalid Ticket  2019-12-28  13:54:00            1\n",
       "1159      12181   Silver    Invalid Ticket  2019-12-28  13:54:00            1\n",
       "1309      12914     Gold    Invalid Ticket  2019-12-24  15:55:00            2"
      ]
     },
     "execution_count": 37,
     "metadata": {},
     "output_type": "execute_result"
    }
   ],
   "source": [
    "df3=df[df['usage_status_desc']=='Invalid Ticket']\n",
    "df3.head()"
   ]
  },
  {
   "cell_type": "code",
   "execution_count": 39,
   "id": "dba77e10",
   "metadata": {},
   "outputs": [
    {
     "data": {
      "text/plain": [
       "Gold      68\n",
       "Silver    13\n",
       "Name: Passtype, dtype: int64"
      ]
     },
     "execution_count": 39,
     "metadata": {},
     "output_type": "execute_result"
    }
   ],
   "source": [
    "dfc=df3[df3['usage_status_desc']=='Invalid Ticket']\n",
    "dfc['Passtype'].value_counts()"
   ]
  },
  {
   "cell_type": "code",
   "execution_count": 43,
   "id": "46fe802f",
   "metadata": {},
   "outputs": [
    {
     "data": {
      "text/plain": [
       "<function matplotlib.pyplot.show(close=None, block=None)>"
      ]
     },
     "execution_count": 43,
     "metadata": {},
     "output_type": "execute_result"
    },
    {
     "data": {
      "image/png": "[encoded data removed]",
      "text/plain": [
       "<Figure size 432x288 with 1 Axes>"
      ]
     },
     "metadata": {},
     "output_type": "display_data"
    }
   ],
   "source": [
    "#percentage of each tier\n",
    "import matplotlib.pyplot as plt\n",
    "tiers=['Gold','Silver']\n",
    "gold=len(df3[df3['Passtype']=='Gold'])\n",
    "silver=len(df3[df3['Passtype']=='Silver'])\n",
    "data=[gold,silver]\n",
    "plt.pie(data, labels = tiers,autopct='%1.1f%%',colors = ['#FFD700','#C0C0C0'])\n",
    "plt.title('Percentage of Each Tier - Invalid Ticket')\n",
    "plt.tight_layout()\n",
    "\n",
    "plt.show"
   ]
  },
  {
   "cell_type": "code",
   "execution_count": 44,
   "id": "c0694863",
   "metadata": {},
   "outputs": [
    {
     "data": {
      "text/plain": [
       "1.345679012345679"
      ]
     },
     "execution_count": 44,
     "metadata": {},
     "output_type": "execute_result"
    }
   ],
   "source": [
    "#average number of Invalid Ticket occurrences per person (source_id)\n",
    "df3['occurrences'].mean()"
   ]
  },
  {
   "cell_type": "code",
   "execution_count": 66,
   "id": "e50582a9",
   "metadata": {},
   "outputs": [
    {
     "name": "stdout",
     "output_type": "stream",
     "text": [
      "Average number of Invalid Tickets per person for Gold Tier: 1.3823529411764706\n",
      "Average number of Invalid Tickets per person for Diamond Tier: nan\n",
      "Average number of Invalid Tickets per person for Silver Tier: 1.1538461538461537\n"
     ]
    }
   ],
   "source": [
    "#average number of Invalid Ticket occurrences per person per Tier (source_id)\n",
    "Goldoccurrences=df3.loc[df3['Passtype'] == 'Gold', 'occurrences'].mean()\n",
    "Diamondoccurrences=df3.loc[df3['Passtype'] == 'Diamond', 'occurrences'].mean()\n",
    "Silveroccurrences=df3.loc[df3['Passtype'] == 'Silver', 'occurrences'].mean()\n",
    "\n",
    "print(\"Average number of Invalid Tickets per person for Gold Tier:\",Goldoccurrences)\n",
    "print(\"Average number of Invalid Tickets per person for Diamond Tier:\",Diamondoccurrences)\n",
    "print(\"Average number of Invalid Tickets per person for Silver Tier:\",Silveroccurrences)"
   ]
  },
  {
   "cell_type": "code",
   "execution_count": 47,
   "id": "ee203db9",
   "metadata": {},
   "outputs": [
    {
     "data": {
      "image/png": "[encoded data removed]",
      "text/plain": [
       "<Figure size 720x720 with 1 Axes>"
      ]
     },
     "metadata": {
      "needs_background": "light"
     },
     "output_type": "display_data"
    }
   ],
   "source": [
    "#Popular times for Overall Invalid Ticket usage\n",
    "pd.plotting.register_matplotlib_converters()\n",
    "x=df3['new_time'].value_counts().index\n",
    "y=df3['new_time'].value_counts()\n",
    "\n",
    "plt.scatter(x,y)\n",
    "plt.title('Time graph of Invalid Ticket')\n",
    "plt.ylabel('Count of Occurrences')\n",
    "plt.gcf().set_size_inches((10, 10))    \n",
    "plt.show()"
   ]
  },
  {
   "cell_type": "code",
   "execution_count": 48,
   "id": "bd458e6f",
   "metadata": {},
   "outputs": [
    {
     "data": {
      "image/png": "[encoded data removed]",
      "text/plain": [
       "<Figure size 720x720 with 1 Axes>"
      ]
     },
     "metadata": {
      "needs_background": "light"
     },
     "output_type": "display_data"
    }
   ],
   "source": [
    "#Popular days for Overall Invalid Ticket usage\n",
    "x=df3['new_date'].value_counts().index\n",
    "y=df3['new_date'].value_counts()\n",
    "\n",
    "plt.scatter(x,y)\n",
    "plt.title('Day graph of Invalid Ticket')\n",
    "plt.ylabel('Count of Occurrences')\n",
    "plt.gcf().set_size_inches((10, 10))    \n",
    "plt.show()"
   ]
  },
  {
   "cell_type": "code",
   "execution_count": 49,
   "id": "0bd75fcb",
   "metadata": {},
   "outputs": [
    {
     "data": {
      "image/png": "[encoded data removed]",
      "text/plain": [
       "<Figure size 432x288 with 1 Axes>"
      ]
     },
     "metadata": {
      "needs_background": "light"
     },
     "output_type": "display_data"
    }
   ],
   "source": [
    "#Popular Times for each type of Invalid Ticket Usage\n",
    "df_part_group=df3.groupby('Passtype')\n",
    "gold=df_part_group.get_group('Gold')\n",
    "silver=df_part_group.get_group('Silver')\n",
    "\n",
    "\n",
    "\n",
    "goldy=gold['new_time'].value_counts()\n",
    "silvery=silver['new_time'].value_counts()\n",
    "\n",
    "ax = plt.gca()\n",
    "\n",
    "goldx=gold['new_time'].value_counts().index\n",
    "silverx=silver['new_time'].value_counts().index\n",
    "\n",
    "\n",
    "\n",
    "ax.scatter(goldx, goldy, color='#FFD700')\n",
    "ax.scatter(silverx, silvery, color='#C0C0C0')\n",
    "\n",
    "ax.title.set_text('Time graph of Invalid Ticket')"
   ]
  },
  {
   "cell_type": "code",
   "execution_count": 50,
   "id": "ae5a64c5",
   "metadata": {},
   "outputs": [
    {
     "data": {
      "image/png": "[encoded data removed]",
      "text/plain": [
       "<Figure size 432x288 with 1 Axes>"
      ]
     },
     "metadata": {
      "needs_background": "light"
     },
     "output_type": "display_data"
    }
   ],
   "source": [
    "#Popular Day for each type of Invalid Ticket Usage\n",
    "df_part_group=df3.groupby('Passtype')\n",
    "gold=df_part_group.get_group('Gold')\n",
    "silver=df_part_group.get_group('Silver')\n",
    "\n",
    "\n",
    "\n",
    "goldy=gold['new_date'].value_counts()\n",
    "silvery=silver['new_date'].value_counts()\n",
    "\n",
    "ax = plt.gca()\n",
    "\n",
    "goldx=gold['new_date'].value_counts().index\n",
    "silverx=silver['new_date'].value_counts().index\n",
    "\n",
    "\n",
    "\n",
    "ax.scatter(goldx, goldy, color='#FFD700')\n",
    "ax.scatter(silverx, silvery, color='#C0C0C0')\n",
    "\n",
    "ax.title.set_text('Day graph of Invalid Ticket')"
   ]
  },
  {
   "cell_type": "markdown",
   "id": "762f3a7a",
   "metadata": {},
   "source": [
    "# sorting based on usage_status_desc - Ticket Blocked"
   ]
  },
  {
   "cell_type": "code",
   "execution_count": 51,
   "id": "214b9bc3",
   "metadata": {},
   "outputs": [
    {
     "data": {
      "text/plain": [
       "Diamond    1\n",
       "Name: Passtype, dtype: int64"
      ]
     },
     "execution_count": 51,
     "metadata": {},
     "output_type": "execute_result"
    }
   ],
   "source": [
    "#sorting based on usage_status_desc = TICKET BLOCKED\n",
    "df4=df[df['usage_status_desc']=='Ticket Blocked']\n",
    "df4['Passtype'].value_counts()"
   ]
  },
  {
   "cell_type": "code",
   "execution_count": 53,
   "id": "1e307310",
   "metadata": {},
   "outputs": [
    {
     "data": {
      "text/html": [
       "<div>\n",
       "<style scoped>\n",
       "    .dataframe tbody tr th:only-of-type {\n",
       "        vertical-align: middle;\n",
       "    }\n",
       "\n",
       "    .dataframe tbody tr th {\n",
       "        vertical-align: top;\n",
       "    }\n",
       "\n",
       "    .dataframe thead th {\n",
       "        text-align: right;\n",
       "    }\n",
       "</style>\n",
       "<table border=\"1\" class=\"dataframe\">\n",
       "  <thead>\n",
       "    <tr style=\"text-align: right;\">\n",
       "      <th></th>\n",
       "      <th>source_id</th>\n",
       "      <th>Passtype</th>\n",
       "      <th>usage_status_desc</th>\n",
       "      <th>new_date</th>\n",
       "      <th>new_time</th>\n",
       "      <th>occurrences</th>\n",
       "    </tr>\n",
       "  </thead>\n",
       "  <tbody>\n",
       "    <tr>\n",
       "      <th>2503</th>\n",
       "      <td>19349</td>\n",
       "      <td>Diamond</td>\n",
       "      <td>Ticket Blocked</td>\n",
       "      <td>2019-12-24</td>\n",
       "      <td>17:25:00</td>\n",
       "      <td>1</td>\n",
       "    </tr>\n",
       "  </tbody>\n",
       "</table>\n",
       "</div>"
      ],
      "text/plain": [
       "      source_id Passtype usage_status_desc    new_date  new_time  occurrences\n",
       "2503      19349  Diamond    Ticket Blocked  2019-12-24  17:25:00            1"
      ]
     },
     "execution_count": 53,
     "metadata": {},
     "output_type": "execute_result"
    }
   ],
   "source": [
    "df4"
   ]
  },
  {
   "cell_type": "code",
   "execution_count": null,
   "id": "ae81c05a",
   "metadata": {},
   "outputs": [],
   "source": []
  }
 ],
 "metadata": {
  "kernelspec": {
   "display_name": "Python 3",
   "language": "python",
   "name": "python3"
  },
  "language_info": {
   "codemirror_mode": {
    "name": "ipython",
    "version": 3
   },
   "file_extension": ".py",
   "mimetype": "text/x-python",
   "name": "python",
   "nbconvert_exporter": "python",
   "pygments_lexer": "ipython3",
   "version": "3.8.8"
  }
 },
 "nbformat": 4,
 "nbformat_minor": 5
}
